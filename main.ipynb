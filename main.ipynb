{
 "cells": [
  {
   "cell_type": "code",
   "execution_count": 7,
   "metadata": {},
   "outputs": [],
   "source": [
    "import sqlite3\n",
    "import pandas as pd\n",
    "\n",
    "class feedzaiChallenge():\n",
    "    def __init__(self,database_name):\n",
    "        self.database_name = database_name\n",
    "        self.conn = sqlite3.connect(f'{self.database_name}.db')\n",
    "\n",
    "    def read_csv_file(self, csv_path:str, read_params:dict=None):\n",
    "        try:\n",
    "            self.df_csv = pd.read_csv(csv_path) if read_params == None else pd.read_csv(csv_path,**read_params)\n",
    "        except Exception as ex:\n",
    "            raise ex\n",
    "    \n",
    "    def load_data(self, table_name:str):\n",
    "        try:\n",
    "            self.df_csv.to_sql(table_name, self.conn, if_exists='replace', index=False)\n",
    "        except Exception as ex:\n",
    "            raise ex\n",
    "    \n",
    "    def query_acumulated_actual_costs(self,output_path:str):\n",
    "        try:\n",
    "            query = f\"\"\"\n",
    "            WITH daily_accumulated_cost AS (\n",
    "                SELECT\n",
    "                    project_id,\n",
    "                    date,\n",
    "                    SUM(worked) * 100 AS accumulated_cost\n",
    "                FROM\n",
    "                    work_hours\n",
    "                GROUP BY\n",
    "                    project_id, date\n",
    "                ORDER BY\n",
    "                    project_id, date\n",
    "            )\n",
    "            SELECT\n",
    "                project_id,\n",
    "                date,\n",
    "                SUM(accumulated_cost) OVER (PARTITION BY project_id ORDER BY date) AS total_accumulated_cost\n",
    "            FROM\n",
    "                daily_accumulated_cost;\n",
    "            \"\"\"\n",
    "            \n",
    "            result = pd.read_sql_query(query, self.conn)\n",
    "            result.to_csv(output_path, index=False)\n",
    "        except Exception as ex:\n",
    "            raise ex\n",
    "        \n",
    "    def close_connection(self):\n",
    "        self.conn.close()\n"
   ]
  },
  {
   "cell_type": "code",
   "execution_count": 8,
   "metadata": {},
   "outputs": [],
   "source": [
    "feedzai = feedzaiChallenge('feedzai_database')"
   ]
  },
  {
   "cell_type": "code",
   "execution_count": 9,
   "metadata": {},
   "outputs": [],
   "source": [
    "feedzai.read_csv_file('time_off.csv')\n",
    "feedzai.load_data('time_off')"
   ]
  },
  {
   "cell_type": "code",
   "execution_count": 10,
   "metadata": {},
   "outputs": [],
   "source": [
    "feedzai.read_csv_file('work_hours.csv')\n",
    "feedzai.load_data('work_hours')"
   ]
  },
  {
   "cell_type": "code",
   "execution_count": 11,
   "metadata": {},
   "outputs": [],
   "source": [
    "feedzai.query_acumulated_actual_costs('acumulated_actual_costs.csv')\n"
   ]
  },
  {
   "cell_type": "code",
   "execution_count": 12,
   "metadata": {},
   "outputs": [],
   "source": [
    "feedzai.close_connection()"
   ]
  }
 ],
 "metadata": {
  "kernelspec": {
   "display_name": "feedzai_challenge",
   "language": "python",
   "name": "python3"
  },
  "language_info": {
   "codemirror_mode": {
    "name": "ipython",
    "version": 3
   },
   "file_extension": ".py",
   "mimetype": "text/x-python",
   "name": "python",
   "nbconvert_exporter": "python",
   "pygments_lexer": "ipython3",
   "version": "3.10.14"
  }
 },
 "nbformat": 4,
 "nbformat_minor": 2
}
