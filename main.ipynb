{
 "cells": [
  {
   "cell_type": "code",
   "execution_count": 1,
   "metadata": {},
   "outputs": [],
   "source": [
    "import sqlite3\n",
    "import pandas as pd\n",
    "\n",
    "class feedzaiChallenge():\n",
    "    def __init__(self,database_name:str):\n",
    "        self.database_name = database_name\n",
    "        self.conn = sqlite3.connect(f'database\\\\{self.database_name}.db')\n",
    "\n",
    "    def read_csv_files(self, csv_files:dict):\n",
    "        try:\n",
    "            self.dfs = dict()\n",
    "            for file in csv_files:\n",
    "                self.dfs[file] = pd.read_csv(csv_files[file])\n",
    "        except Exception as ex:\n",
    "            raise ex\n",
    "    \n",
    "    def load_data(self, table_name:str):\n",
    "        try:\n",
    "            self.dfs[table_name].to_sql(table_name, self.conn, if_exists='replace', index=False)\n",
    "        except Exception as ex:\n",
    "            raise ex\n",
    "    \n",
    "    def query_data(self,query, output_path:str):\n",
    "        try:           \n",
    "            result = pd.read_sql_query(query, self.conn)\n",
    "            result.to_csv(output_path, index=False)\n",
    "        except Exception as ex:\n",
    "            raise ex\n",
    "        \n",
    "    def close_connection(self):\n",
    "        self.conn.close()\n"
   ]
  },
  {
   "cell_type": "code",
   "execution_count": 2,
   "metadata": {},
   "outputs": [],
   "source": [
    "feedzai = feedzaiChallenge('feedzai_database')"
   ]
  },
  {
   "cell_type": "code",
   "execution_count": 3,
   "metadata": {},
   "outputs": [],
   "source": [
    "csv_files = {\n",
    "    'time_off':r'csv_sources\\time_off.csv',\n",
    "    'work_hours':r'csv_sources\\work_hours.csv'\n",
    "}"
   ]
  },
  {
   "cell_type": "code",
   "execution_count": 4,
   "metadata": {},
   "outputs": [],
   "source": [
    "feedzai.read_csv_files(csv_files)"
   ]
  },
  {
   "cell_type": "code",
   "execution_count": 5,
   "metadata": {},
   "outputs": [],
   "source": [
    "feedzai.load_data('work_hours')\n",
    "feedzai.load_data('time_off')"
   ]
  },
  {
   "cell_type": "code",
   "execution_count": 6,
   "metadata": {},
   "outputs": [],
   "source": [
    "query_1 = f\"\"\"\n",
    "SELECT\n",
    "    project_id,\n",
    "    date,\n",
    "    SUM((worked/1000.0)*100.0) OVER (PARTITION BY project_id ORDER BY date ROWS BETWEEN UNBOUNDED PRECEDING AND CURRENT ROW) AS total_accumulated_cost\n",
    "FROM\n",
    "    work_hours;\n",
    "\"\"\"\n",
    "feedzai.query_data(query_1,r'output_files\\acumulated_actual_costs.csv')\n"
   ]
  },
  {
   "cell_type": "code",
   "execution_count": 7,
   "metadata": {},
   "outputs": [],
   "source": [
    "query_2 = f\"\"\"\n",
    "with max_min as (\n",
    "\tSELECT date from work_hours UNION SELECT date_start FROM time_off UNION SELECT date_end FROM time_off\n",
    "),\n",
    "all_working_days as (\n",
    "\twith RECURSIVE DateRange AS (\n",
    "\t    SELECT min(date) AS Date FROM max_min\n",
    "\t    UNION ALL\n",
    "\t    SELECT DATE(Date, '+1 day') FROM DateRange WHERE Date < (select max(date) from max_min)\n",
    "\t)\n",
    "\tSELECT Date\n",
    "\tFROM DateRange\n",
    "\tWHERE strftime('%w', Date) NOT IN ('0', '6')\n",
    "),\n",
    "available_work_hours_per_user as (\n",
    "\tSELECT\n",
    "\t\tt.employee_id,\n",
    "\t\tt.employee_name,\n",
    "\t\t--t.date_start,\n",
    "\t\t--t.date_end,\n",
    "\t\tSTRFTIME('%Y-%m', d.Date) as work_month,\n",
    "\t\tcount(d.Date)*8 as hours\n",
    "\tFROM time_off t\n",
    "\tCROSS JOIN all_working_days d\n",
    "\tWHERE d.Date < t.date_start OR d.Date > t.date_end\n",
    "\tgroup by employee_id, employee_name, work_month\n",
    "),\n",
    "worked_hours_by_month_by_project_by_employee as (\n",
    "\tSELECT\n",
    "\t\twh.employee_id,\n",
    "\t\tSTRFTIME('%Y-%m', wh.date) as work_month,\n",
    "\t\twh.project_id,\n",
    "\t\tsum(wh.worked)/1000.0 as worked_total\n",
    "\tFROM work_hours wh\n",
    "\tGROUP BY employee_id, work_month, project_id\n",
    ")\n",
    "SELECT \n",
    "\tah.employee_name,\n",
    "\tah.work_month,\n",
    "\twh.project_id,\n",
    "\t100.0*wh.worked_total/ah.hours as project_utilization_percent\n",
    "FROM worked_hours_by_month_by_project_by_employee wh\n",
    "JOIN available_work_hours_per_user ah ON ah.employee_id = wh.employee_id AND ah.work_month = wh.work_month\n",
    "\"\"\"\n",
    "feedzai.query_data(query_2,r'output_files\\project_utilization.csv')\n"
   ]
  },
  {
   "cell_type": "code",
   "execution_count": 8,
   "metadata": {},
   "outputs": [],
   "source": [
    "feedzai.close_connection()"
   ]
  }
 ],
 "metadata": {
  "kernelspec": {
   "display_name": "feedzai_challenge",
   "language": "python",
   "name": "python3"
  },
  "language_info": {
   "codemirror_mode": {
    "name": "ipython",
    "version": 3
   },
   "file_extension": ".py",
   "mimetype": "text/x-python",
   "name": "python",
   "nbconvert_exporter": "python",
   "pygments_lexer": "ipython3",
   "version": "3.10.14"
  }
 },
 "nbformat": 4,
 "nbformat_minor": 2
}
