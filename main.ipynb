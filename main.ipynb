{
 "cells": [
  {
   "cell_type": "code",
   "execution_count": 17,
   "metadata": {},
   "outputs": [],
   "source": [
    "import sqlite3\n",
    "import pandas as pd\n",
    "\n",
    "class feedzaiChallenge():\n",
    "    def __init__(self,database_name:str):\n",
    "        self.database_name = database_name\n",
    "        self.conn = sqlite3.connect(f'database\\\\{self.database_name}.db')\n",
    "\n",
    "    def read_csv_files(self, csv_files:dict):\n",
    "        try:\n",
    "            self.dfs = dict()\n",
    "            for file in csv_files:\n",
    "                self.dfs[file] = pd.read_csv(csv_files[file])\n",
    "        except Exception as ex:\n",
    "            raise ex\n",
    "    \n",
    "    def load_data(self, table_name:str):\n",
    "        try:\n",
    "            self.dfs[table_name].to_sql(table_name, self.conn, if_exists='replace', index=False)\n",
    "        except Exception as ex:\n",
    "            raise ex\n",
    "    \n",
    "    def query_data(self,query, output_path:str):\n",
    "        try:           \n",
    "            result = pd.read_sql_query(query, self.conn)\n",
    "            result.to_csv(output_path, index=False)\n",
    "        except Exception as ex:\n",
    "            raise ex\n",
    "        \n",
    "    def close_connection(self):\n",
    "        self.conn.close()\n"
   ]
  },
  {
   "cell_type": "code",
   "execution_count": 18,
   "metadata": {},
   "outputs": [],
   "source": [
    "feedzai = feedzaiChallenge('feedzai_database')"
   ]
  },
  {
   "cell_type": "code",
   "execution_count": 19,
   "metadata": {},
   "outputs": [],
   "source": [
    "csv_files = {\n",
    "    'time_off':r'csv_sources\\time_off.csv',\n",
    "    'work_hours':r'csv_sources\\work_hours.csv'\n",
    "}"
   ]
  },
  {
   "cell_type": "code",
   "execution_count": 20,
   "metadata": {},
   "outputs": [],
   "source": [
    "feedzai.read_csv_files(csv_files)"
   ]
  },
  {
   "cell_type": "code",
   "execution_count": 21,
   "metadata": {},
   "outputs": [],
   "source": [
    "feedzai.load_data('work_hours')\n",
    "feedzai.load_data('time_off')"
   ]
  },
  {
   "cell_type": "code",
   "execution_count": 22,
   "metadata": {},
   "outputs": [],
   "source": [
    "query = f\"\"\"\n",
    "WITH daily_accumulated_cost AS (\n",
    "    SELECT\n",
    "        project_id,\n",
    "        date,\n",
    "        (SUM(worked) / 3600) * 100 AS accumulated_cost\n",
    "    FROM\n",
    "        work_hours\n",
    "    GROUP BY\n",
    "        project_id, date\n",
    "    ORDER BY\n",
    "        project_id, date\n",
    ")\n",
    "SELECT\n",
    "    project_id,\n",
    "    date,\n",
    "    SUM(accumulated_cost) OVER (PARTITION BY project_id ORDER BY date) AS total_accumulated_cost\n",
    "FROM\n",
    "    daily_accumulated_cost;\n",
    "\"\"\"\n",
    "feedzai.query_data(query,r'output_files\\acumulated_actual_costs.csv')\n"
   ]
  },
  {
   "cell_type": "code",
   "execution_count": 23,
   "metadata": {},
   "outputs": [],
   "source": [
    "feedzai.close_connection()"
   ]
  }
 ],
 "metadata": {
  "kernelspec": {
   "display_name": "feedzai_challenge",
   "language": "python",
   "name": "python3"
  },
  "language_info": {
   "codemirror_mode": {
    "name": "ipython",
    "version": 3
   },
   "file_extension": ".py",
   "mimetype": "text/x-python",
   "name": "python",
   "nbconvert_exporter": "python",
   "pygments_lexer": "ipython3",
   "version": "3.10.14"
  }
 },
 "nbformat": 4,
 "nbformat_minor": 2
}
