{
 "cells": [
  {
   "cell_type": "code",
   "execution_count": 17,
   "metadata": {},
   "outputs": [],
   "source": [
    "import sqlite3\n",
    "import pandas as pd\n",
    "\n",
    "class feedzaiChallenge():\n",
    "    def __init__(self,database_name:str):\n",
    "        self.database_name = database_name\n",
    "        self.conn = sqlite3.connect(f'database\\\\{self.database_name}.db')\n",
    "\n",
    "    def read_csv_files(self, csv_files:dict):\n",
    "        try:\n",
    "            self.dfs = dict()\n",
    "            for file in csv_files:\n",
    "                self.dfs[file] = pd.read_csv(csv_files[file])\n",
    "        except Exception as ex:\n",
    "            raise ex\n",
    "    \n",
    "    def load_data(self, table_name:str):\n",
    "        try:\n",
    "            self.dfs[table_name].to_sql(table_name, self.conn, if_exists='replace', index=False)\n",
    "        except Exception as ex:\n",
    "            raise ex\n",
    "    \n",
    "    def query_data(self,query, output_path:str):\n",
    "        try:           \n",
    "            result = pd.read_sql_query(query, self.conn)\n",
    "            result.to_csv(output_path, index=False)\n",
    "        except Exception as ex:\n",
    "            raise ex\n",
    "        \n",
    "    def close_connection(self):\n",
    "        self.conn.close()\n"
   ]
  },
  {
   "cell_type": "code",
   "execution_count": 18,
   "metadata": {},
   "outputs": [],
   "source": [
    "feedzai = feedzaiChallenge('feedzai_database')"
   ]
  },
  {
   "cell_type": "code",
   "execution_count": 19,
   "metadata": {},
   "outputs": [],
   "source": [
    "csv_files = {\n",
    "    'time_off':r'csv_sources\\time_off.csv',\n",
    "    'work_hours':r'csv_sources\\work_hours.csv'\n",
    "}"
   ]
  },
  {
   "cell_type": "code",
   "execution_count": 20,
   "metadata": {},
   "outputs": [],
   "source": [
    "feedzai.read_csv_files(csv_files)"
   ]
  },
  {
   "cell_type": "code",
   "execution_count": 21,
   "metadata": {},
   "outputs": [],
   "source": [
    "feedzai.load_data('work_hours')\n",
    "feedzai.load_data('time_off')"
   ]
  },
  {
   "cell_type": "code",
   "execution_count": 22,
   "metadata": {},
   "outputs": [],
   "source": [
    "query = f\"\"\"\n",
    "WITH daily_accumulated_cost AS (\n",
    "    SELECT\n",
    "        project_id,\n",
    "        date,\n",
    "        (SUM(worked) / 3600) * 100 AS accumulated_cost\n",
    "    FROM\n",
    "        work_hours\n",
    "    GROUP BY\n",
    "        project_id, date\n",
    "    ORDER BY\n",
    "        project_id, date\n",
    ")\n",
    "SELECT\n",
    "    project_id,\n",
    "    date,\n",
    "    SUM(accumulated_cost) OVER (PARTITION BY project_id ORDER BY date) AS total_accumulated_cost\n",
    "FROM\n",
    "    daily_accumulated_cost;\n",
    "\"\"\"\n",
    "feedzai.query_data(query,r'output_files\\acumulated_actual_costs.csv')\n"
   ]
  },
  {
   "cell_type": "code",
   "execution_count": 23,
   "metadata": {},
   "outputs": [],
   "source": [
    "feedzai.close_connection()"
   ]
  },
  {
   "cell_type": "markdown",
   "metadata": {},
   "source": [
    "# Query 1"
   ]
  },
  {
   "cell_type": "code",
   "execution_count": null,
   "metadata": {},
   "outputs": [],
   "source": [
    "WITH date_bounds AS (\n",
    "    SELECT\n",
    "        MIN(date) AS min_date,\n",
    "        MAX(date) AS max_date\n",
    "    FROM work_hours\n",
    "), weekdays AS (\n",
    "    SELECT min_date AS work_date\n",
    "    FROM date_bounds\n",
    "    UNION ALL\n",
    "    SELECT date(work_date, '+1 day')\n",
    "    FROM weekdays, date_bounds\n",
    "    WHERE work_date < max_date\n",
    "), workdays AS (\n",
    "    SELECT work_date\n",
    "    FROM weekdays\n",
    "    WHERE strftime('%w', work_date) NOT IN ('0', '6')  -- Exclude weekends\n",
    "), employee_workdays AS (\n",
    "    SELECT\n",
    "        e.employee_id,\n",
    "        e.employee_name,\n",
    "        w.work_date,\n",
    "        8 * 3600 AS available_seconds  -- 8 hours per day in seconds\n",
    "    FROM\n",
    "        (SELECT DISTINCT employee_id, employee_name FROM work_hours) e\n",
    "    CROSS JOIN workdays w\n",
    "    LEFT JOIN time_off t ON e.employee_id = t.employee_id AND w.work_date BETWEEN t.date_start AND t.date_end\n",
    "    WHERE t.employee_id IS NULL\n",
    ")\n",
    ", total_worked_hours AS (\n",
    "    SELECT\n",
    "        employee_id,\n",
    "        project_id,\n",
    "        strftime('%Y-%m', date) AS month,\n",
    "        SUM(worked) AS total_worked_seconds\n",
    "    FROM work_hours\n",
    "    GROUP BY employee_id, project_id, strftime('%Y-%m', date)\n",
    "), total_available_hours AS (\n",
    "    SELECT\n",
    "        employee_id,\n",
    "        strftime('%Y-%m', work_date) AS month,\n",
    "        SUM(available_seconds) AS total_available_seconds\n",
    "    FROM employee_workdays\n",
    "    GROUP BY employee_id, strftime('%Y-%m', work_date)\n",
    ")\n",
    "SELECT\n",
    "    a.employee_id,\n",
    "    w.project_id,\n",
    "    a.month,\n",
    "    a.total_available_seconds,\n",
    "    COALESCE(w.total_worked_seconds, 0) AS total_worked_seconds,\n",
    "    ROUND((COALESCE(w.total_worked_seconds, 0) * 1.0 / a.total_available_seconds) * 100, 2) AS utilization_percentage\n",
    "FROM\n",
    "    total_available_hours a\n",
    "LEFT JOIN total_worked_hours w ON a.employee_id = w.employee_id AND a.month = w.month\n",
    "ORDER BY\n",
    "    a.employee_id, w.project_id, a.month;\n"
   ]
  },
  {
   "cell_type": "markdown",
   "metadata": {},
   "source": [
    "# Query 2"
   ]
  },
  {
   "cell_type": "code",
   "execution_count": null,
   "metadata": {},
   "outputs": [],
   "source": [
    "WITH date_bounds AS (\n",
    "    SELECT\n",
    "        MIN(date) AS min_date,\n",
    "        MAX(date) AS max_date\n",
    "    FROM work_hours\n",
    "),\n",
    "calendar AS (\n",
    "    WITH RECURSIVE dates(date) AS (\n",
    "        SELECT min_date AS date\n",
    "        FROM date_bounds\n",
    "        UNION ALL\n",
    "        SELECT date(date, '+1 day')\n",
    "        FROM dates\n",
    "        WHERE date < (SELECT max_date FROM date_bounds)\n",
    "    )\n",
    "    SELECT date\n",
    "    FROM dates\n",
    "),\n",
    "work_days AS (\n",
    "    SELECT \n",
    "        w.employee_id, \n",
    "        w.employee_name, \n",
    "        strftime('%Y-%m', c.date) AS month, \n",
    "        COUNT(*) AS working_days\n",
    "    FROM calendar c\n",
    "    JOIN work_hours w ON strftime('%Y-%m', c.date) = strftime('%Y-%m', w.date)\n",
    "    LEFT JOIN time_off t ON c.date BETWEEN t.date_start AND t.date_end AND w.employee_id = t.employee_id\n",
    "    WHERE strftime('%w', c.date) NOT IN ('0', '6') -- exclude weekends\n",
    "    AND t.employee_id IS NULL -- exclude time off\n",
    "    GROUP BY w.employee_id, month\n",
    "),\n",
    "project_hours AS (\n",
    "    SELECT \n",
    "        employee_id, \n",
    "        strftime('%Y-%m', date) AS month, \n",
    "        project_id, \n",
    "        SUM(worked / 3600.0) AS total_hours  -- divide by 3600.0 to get hours\n",
    "    FROM work_hours\n",
    "    GROUP BY employee_id, month, project_id\n",
    ")\n",
    "SELECT \n",
    "    p.employee_id, \n",
    "    p.month, \n",
    "    p.project_id, \n",
    "    ROUND((p.total_hours / (w.working_days * 8)) * 100, 2) AS utilization_percentage\n",
    "FROM project_hours p\n",
    "JOIN work_days w ON p.employee_id = w.employee_id AND p.month = w.month;\n"
   ]
  }
 ],
 "metadata": {
  "kernelspec": {
   "display_name": "feedzai_challenge",
   "language": "python",
   "name": "python3"
  },
  "language_info": {
   "codemirror_mode": {
    "name": "ipython",
    "version": 3
   },
   "file_extension": ".py",
   "mimetype": "text/x-python",
   "name": "python",
   "nbconvert_exporter": "python",
   "pygments_lexer": "ipython3",
   "version": "3.10.14"
  }
 },
 "nbformat": 4,
 "nbformat_minor": 2
}
